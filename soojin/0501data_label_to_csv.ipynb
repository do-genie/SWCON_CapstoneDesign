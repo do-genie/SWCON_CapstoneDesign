{
  "nbformat": 4,
  "nbformat_minor": 0,
  "metadata": {
    "colab": {
      "provenance": []
    },
    "kernelspec": {
      "name": "python3",
      "display_name": "Python 3"
    },
    "language_info": {
      "name": "python"
    }
  },
  "cells": [
    {
      "cell_type": "code",
      "source": [
        "from google.colab import drive\n",
        "drive.mount('/content/drive', force_remount = True)"
      ],
      "metadata": {
        "colab": {
          "base_uri": "https://localhost:8080/"
        },
        "id": "Kr48qYy2ljlQ",
        "outputId": "72ef1f90-10af-42f9-928b-e7623f26c355"
      },
      "execution_count": null,
      "outputs": [
        {
          "output_type": "stream",
          "name": "stdout",
          "text": [
            "Mounted at /content/drive\n"
          ]
        }
      ]
    },
    {
      "cell_type": "code",
      "source": [
        "%cd /content/drive/My Drive/Activity_Recognition/training"
      ],
      "metadata": {
        "colab": {
          "base_uri": "https://localhost:8080/"
        },
        "id": "G1Ub3qUUq_ZB",
        "outputId": "4f01673a-ba2b-4d97-b474-bfc62b13e03a"
      },
      "execution_count": null,
      "outputs": [
        {
          "output_type": "stream",
          "name": "stdout",
          "text": [
            "/content/drive/My Drive/Activity_Recognition/training\n"
          ]
        }
      ]
    },
    {
      "cell_type": "code",
      "source": [
        "import json\n",
        "import pandas as pd\n",
        "import numpy as np\n",
        "import cv2\n",
        "import os"
      ],
      "metadata": {
        "id": "qMyxSvE9c55b"
      },
      "execution_count": null,
      "outputs": []
    },
    {
      "cell_type": "code",
      "execution_count": null,
      "metadata": {
        "id": "AJYQnmNHlWtk"
      },
      "outputs": [],
      "source": [
        "# 파일 가져오기\n",
        "import os\n",
        "image_dir = [x for x in os.listdir('images')]"
      ]
    },
    {
      "cell_type": "code",
      "source": [
        "image_dir"
      ],
      "metadata": {
        "colab": {
          "base_uri": "https://localhost:8080/"
        },
        "id": "A3gVGAABmQ3i",
        "outputId": "e133677e-68fd-4158-f484-c501125897d0"
      },
      "execution_count": null,
      "outputs": [
        {
          "output_type": "execute_result",
          "data": {
            "text/plain": [
              "['TS_헬스_요가',\n",
              " 'TS_캠핑용품',\n",
              " 'TS_의약품_의료용품',\n",
              " 'TS_당구장',\n",
              " 'TS_주방_다이닝룸',\n",
              " 'TS_미용도구']"
            ]
          },
          "metadata": {},
          "execution_count": 4
        }
      ]
    },
    {
      "cell_type": "code",
      "source": [
        "label_dir = [x for x in os.listdir('labels')]"
      ],
      "metadata": {
        "id": "iVwX-qMTmR_V"
      },
      "execution_count": null,
      "outputs": []
    },
    {
      "cell_type": "code",
      "source": [
        "label_dir"
      ],
      "metadata": {
        "colab": {
          "base_uri": "https://localhost:8080/"
        },
        "id": "o07Ijiammvf3",
        "outputId": "e54d4c5c-04ab-4054-94b9-ef452a5064f4"
      },
      "execution_count": null,
      "outputs": [
        {
          "output_type": "execute_result",
          "data": {
            "text/plain": [
              "['TL_헬스_요가',\n",
              " 'TL_당구장',\n",
              " 'TL_악기',\n",
              " 'TL_주방_다이닝룸',\n",
              " 'TL_육아용품',\n",
              " 'TL_미술용품',\n",
              " 'TL_캠핑용품',\n",
              " 'TL_놀이터_공원',\n",
              " 'TL_미용도구',\n",
              " 'TL_의약품_의료용품',\n",
              " 'TL_운동기구(구기)']"
            ]
          },
          "metadata": {},
          "execution_count": 6
        }
      ]
    },
    {
      "cell_type": "code",
      "source": [
        "#나중에 전체 데이터 올라오면 삭제하기!!\n",
        "label_dir = image_dir\n",
        "\n",
        "for i in range(len(label_dir)):\n",
        "  label_dir[i] = label_dir[i].replace(\"TS\", \"TL\")\n",
        "\n",
        "label_dir"
      ],
      "metadata": {
        "colab": {
          "base_uri": "https://localhost:8080/"
        },
        "id": "2XIWzu0nvfDj",
        "outputId": "7447f26b-e1c7-43c1-982b-8f101f377734"
      },
      "execution_count": null,
      "outputs": [
        {
          "output_type": "execute_result",
          "data": {
            "text/plain": [
              "['TL_헬스_요가',\n",
              " 'TL_캠핑용품',\n",
              " 'TL_의약품_의료용품',\n",
              " 'TL_당구장',\n",
              " 'TL_주방_다이닝룸',\n",
              " 'TL_미용도구']"
            ]
          },
          "metadata": {},
          "execution_count": 7
        }
      ]
    },
    {
      "cell_type": "code",
      "source": [
        "label_dir = ['TL_미용도구']"
      ],
      "metadata": {
        "id": "EWFjvTUOfTkA"
      },
      "execution_count": null,
      "outputs": []
    },
    {
      "cell_type": "code",
      "source": [
        "def read_all_file(path):\n",
        "    output = os.listdir(path)\n",
        "    file_list = []\n",
        "    for i in output:\n",
        "        if os.path.isdir(path+\"/\"+i): \n",
        "            file_list.extend(read_all_file(path+\"/\"+i)) \n",
        "        elif os.path.isfile(path+\"/\"+i):\n",
        "            file_list.append(path+\"/\"+i)\n",
        "\n",
        "    return file_list"
      ],
      "metadata": {
        "id": "0kMLKTd8mwhE"
      },
      "execution_count": null,
      "outputs": []
    },
    {
      "cell_type": "code",
      "source": [
        "for d in label_dir:\n",
        "  name = []\n",
        "  label = []\n",
        "  x_min = []\n",
        "  x_max = []\n",
        "  y_min = []\n",
        "  y_max = []\n",
        "  file_name= os.path.join('labels', d)\n",
        "  filelist= []\n",
        "  output = os.listdir(file_name)\n",
        "  for o in output:\n",
        "    if os.path.isfile(file_name+\"/\"+o):\n",
        "      filelist.append(file_name+\"/\"+o)\n",
        "  for i in range(len(filelist)):\n",
        "    with open(filelist[i], 'r') as f:\n",
        "      try:\n",
        "        data = json.load(f)\n",
        "        img = filelist[i].replace('labels',\"images\")\n",
        "        img = img.replace('TL', \"TS\")\n",
        "        img = img.replace('json','jpg')\n",
        "        if os.path.isfile(img):\n",
        "          img = img.replace(\"images/\", \"\")\n",
        "          for i in range(len(data['annotations'])):\n",
        "              name.append(img)\n",
        "              print(img, end = \" \")\n",
        "              label.append(data['annotations'][i]['category_id'])\n",
        "              print(data['annotations'][i]['category_id'], end = \" \")\n",
        "              k = data['annotations'][i]['bbox']\n",
        "              print(k)\n",
        "              x_min.append(int(k[0]))\n",
        "              y_min.append(int(k[1]))\n",
        "              x_max.append(int(k[0])+int(k[2]))\n",
        "              y_max.append(int(k[1])+int(k[3]))\n",
        "        else:\n",
        "          print(img, \"없음\")\n",
        "          pass\n",
        "      except:\n",
        "        pass\n",
        "\n",
        "  data = {'image':name, 'xmin':x_min, 'ymin': y_min, 'xmax':x_max, 'ymax':y_max, 'label':label}\n",
        "  df = pd.DataFrame(data)\n",
        "  fn = \"train_bbox\"+str(d)+\".csv\"\n",
        "  df.to_csv(fn)"
      ],
      "metadata": {
        "colab": {
          "base_uri": "https://localhost:8080/",
          "height": 241
        },
        "id": "u_PuknqNn7Sy",
        "outputId": "389033d2-b1ea-42ea-fef8-19a821de6481"
      },
      "execution_count": null,
      "outputs": [
        {
          "output_type": "error",
          "ename": "OSError",
          "evalue": "ignored",
          "traceback": [
            "\u001b[0;31m---------------------------------------------------------------------------\u001b[0m",
            "\u001b[0;31mOSError\u001b[0m                                   Traceback (most recent call last)",
            "\u001b[0;32m<ipython-input-4-c8511bf5cb42>\u001b[0m in \u001b[0;36m<cell line: 6>\u001b[0;34m()\u001b[0m\n\u001b[1;32m     13\u001b[0m   \u001b[0mfile_name\u001b[0m\u001b[0;34m=\u001b[0m \u001b[0mos\u001b[0m\u001b[0;34m.\u001b[0m\u001b[0mpath\u001b[0m\u001b[0;34m.\u001b[0m\u001b[0mjoin\u001b[0m\u001b[0;34m(\u001b[0m\u001b[0;34m'labels'\u001b[0m\u001b[0;34m,\u001b[0m \u001b[0md\u001b[0m\u001b[0;34m)\u001b[0m\u001b[0;34m\u001b[0m\u001b[0;34m\u001b[0m\u001b[0m\n\u001b[1;32m     14\u001b[0m   \u001b[0mfilelist\u001b[0m\u001b[0;34m=\u001b[0m \u001b[0;34m[\u001b[0m\u001b[0;34m]\u001b[0m\u001b[0;34m\u001b[0m\u001b[0;34m\u001b[0m\u001b[0m\n\u001b[0;32m---> 15\u001b[0;31m   \u001b[0moutput\u001b[0m \u001b[0;34m=\u001b[0m \u001b[0mos\u001b[0m\u001b[0;34m.\u001b[0m\u001b[0mlistdir\u001b[0m\u001b[0;34m(\u001b[0m\u001b[0mfile_name\u001b[0m\u001b[0;34m)\u001b[0m\u001b[0;34m\u001b[0m\u001b[0;34m\u001b[0m\u001b[0m\n\u001b[0m\u001b[1;32m     16\u001b[0m   \u001b[0;32mfor\u001b[0m \u001b[0mo\u001b[0m \u001b[0;32min\u001b[0m \u001b[0moutput\u001b[0m\u001b[0;34m:\u001b[0m\u001b[0;34m\u001b[0m\u001b[0;34m\u001b[0m\u001b[0m\n\u001b[1;32m     17\u001b[0m     \u001b[0;32mif\u001b[0m \u001b[0mos\u001b[0m\u001b[0;34m.\u001b[0m\u001b[0mpath\u001b[0m\u001b[0;34m.\u001b[0m\u001b[0misfile\u001b[0m\u001b[0;34m(\u001b[0m\u001b[0mfile_name\u001b[0m\u001b[0;34m+\u001b[0m\u001b[0;34m\"/\"\u001b[0m\u001b[0;34m+\u001b[0m\u001b[0mo\u001b[0m\u001b[0;34m)\u001b[0m\u001b[0;34m:\u001b[0m\u001b[0;34m\u001b[0m\u001b[0;34m\u001b[0m\u001b[0m\n",
            "\u001b[0;31mOSError\u001b[0m: [Errno 5] Input/output error: 'labels/TL_미용도구'"
          ]
        }
      ]
    },
    {
      "cell_type": "markdown",
      "source": [
        "----------------여기까지가 CSV로 만드는 파일 -> 카테고리별로 돌려서 csv파일로 저장함---------------------------"
      ],
      "metadata": {
        "id": "Ldo3ZC_UASLU"
      }
    },
    {
      "cell_type": "code",
      "source": [
        "import pandas as pd\n",
        "data = {'image':name, 'xmin':x_min, 'ymin': y_min, 'xmax':x_max, 'ymax':y_max, 'label':label}\n",
        "df = pd.DataFrame(data)\n",
        "df.to_csv('train_bbox_6.csv')"
      ],
      "metadata": {
        "id": "4Wu1DEU9n_BD"
      },
      "execution_count": null,
      "outputs": []
    },
    {
      "cell_type": "code",
      "source": [
        "lis = [x for x in os.listdir() if x[:5]==\"trans\"]"
      ],
      "metadata": {
        "id": "CmfPPQNY0aOU"
      },
      "execution_count": null,
      "outputs": []
    },
    {
      "cell_type": "code",
      "source": [
        "lis"
      ],
      "metadata": {
        "colab": {
          "base_uri": "https://localhost:8080/"
        },
        "id": "Z-It755o1NBt",
        "outputId": "dbb332e8-3703-4b92-b273-04c88caf7a84"
      },
      "execution_count": null,
      "outputs": [
        {
          "output_type": "execute_result",
          "data": {
            "text/plain": [
              "['transformed_bbox480.csv',\n",
              " 'transformed_bbox513.csv',\n",
              " 'transformed_bbox479.csv',\n",
              " 'transformed_bbox515.csv',\n",
              " 'transformed_bbox486.csv',\n",
              " 'transformed_bbox490.csv',\n",
              " 'transformed_bbox476.csv',\n",
              " 'transformed_bbox492.csv',\n",
              " 'transformed_bbox295.csv',\n",
              " 'transformed_bbox288.csv',\n",
              " 'transformed_bbox294.csv',\n",
              " 'transformed_bbox482.csv',\n",
              " 'transformed_bbox285.csv',\n",
              " 'transformed_bbox530.csv',\n",
              " 'transformed_bbox489.csv',\n",
              " 'transformed_bbox477.csv',\n",
              " 'transformed_bbox524.csv',\n",
              " 'transformed_bbox491.csv',\n",
              " 'transformed_bbox297.csv',\n",
              " 'transformed_bbox292.csv',\n",
              " 'transformed_bbox289.csv',\n",
              " 'transformed_bbox520.csv',\n",
              " 'transformed_bbox563.csv',\n",
              " 'transformed_bbox478.csv',\n",
              " 'transformed_bbox286.csv',\n",
              " 'transformed_bbox474.csv']"
            ]
          },
          "metadata": {},
          "execution_count": 7
        }
      ]
    },
    {
      "cell_type": "code",
      "source": [
        "label_5 = pd.read_csv('training_labels_5.csv')\n",
        "for i in lis:\n",
        "  transformed = pd.read_csv(i)\n",
        "  label_5 = pd.concat([label_5, transformed], ignore_index=True)"
      ],
      "metadata": {
        "id": "MCcDnT6Az77g"
      },
      "execution_count": null,
      "outputs": []
    },
    {
      "cell_type": "code",
      "source": [
        "health_yoga = pd.read_csv('train_bboxTL_헬스_요가.csv')\n",
        "camping = pd.read_csv('train_bboxTL_캠핑용품.csv')\n",
        "dining = pd.read_csv(\"train_bboxTL_주방_다이닝룸.csv\")\n",
        "med = pd.read_csv(\"train_bboxTL_의약품_의료용품.csv\")\n",
        "pool = pd.read_csv(\"train_bboxTL_당구장.csv\")"
      ],
      "metadata": {
        "id": "AzmC6sp_ISY2"
      },
      "execution_count": null,
      "outputs": []
    },
    {
      "cell_type": "code",
      "source": [
        "#result_5 = pd.concat([health_yoga ,camping, dining, med, pool], ignore_index=True)\n",
        "label_5 = label_5.drop('Unnamed: 0', axis = 'columns')\n",
        "label_5"
      ],
      "metadata": {
        "id": "U-cqxknTdeGM",
        "colab": {
          "base_uri": "https://localhost:8080/",
          "height": 424
        },
        "outputId": "48413b7c-6521-4b4c-806e-66d987ce1fd5"
      },
      "execution_count": null,
      "outputs": [
        {
          "output_type": "execute_result",
          "data": {
            "text/plain": [
              "                                             image         xmin         ymin  \\\n",
              "0                    TS_헬스_요가/1477113_605.jpg  1682.000000  1182.000000   \n",
              "1                    TS_헬스_요가/2072307_605.jpg   358.000000   166.000000   \n",
              "2                    TS_헬스_요가/1852047_605.jpg  1485.000000  1201.000000   \n",
              "3                    TS_헬스_요가/1681012_605.jpg  1331.000000   985.000000   \n",
              "4                    TS_헬스_요가/1420024_605.jpg   640.000000  1397.000000   \n",
              "...                                            ...          ...          ...   \n",
              "81680  TS_캠핑용품/2123399_616_transformed.jpg  1011.349693   257.560026   \n",
              "81681  TS_캠핑용품/2125714_616_transformed.jpg   183.398184   493.238434   \n",
              "81682  TS_캠핑용품/2123510_616_transformed.jpg  2507.692308  1189.852008   \n",
              "81683  TS_캠핑용품/2125535_616_transformed.jpg  1442.424242   212.837838   \n",
              "81684  TS_캠핑용품/2125748_616_transformed.jpg  1856.842105   866.993464   \n",
              "\n",
              "              xmax         ymax  label  \n",
              "0      1815.000000  1228.000000    291  \n",
              "1       434.000000   265.000000    298  \n",
              "2      1655.000000  1352.000000    285  \n",
              "3      1448.000000  1120.000000    292  \n",
              "4       780.000000  1457.000000    291  \n",
              "...            ...          ...    ...  \n",
              "81680  1234.662577  1419.987021    474  \n",
              "81681   384.954604  1396.014235    474  \n",
              "81682  2764.835165  1614.587738    474  \n",
              "81683  2369.230769   867.567568    474  \n",
              "81684  2544.561404  1093.464052    474  \n",
              "\n",
              "[81685 rows x 6 columns]"
            ],
            "text/html": [
              "\n",
              "  <div id=\"df-4bbbff89-8ef2-4a4a-a826-d580de26a671\">\n",
              "    <div class=\"colab-df-container\">\n",
              "      <div>\n",
              "<style scoped>\n",
              "    .dataframe tbody tr th:only-of-type {\n",
              "        vertical-align: middle;\n",
              "    }\n",
              "\n",
              "    .dataframe tbody tr th {\n",
              "        vertical-align: top;\n",
              "    }\n",
              "\n",
              "    .dataframe thead th {\n",
              "        text-align: right;\n",
              "    }\n",
              "</style>\n",
              "<table border=\"1\" class=\"dataframe\">\n",
              "  <thead>\n",
              "    <tr style=\"text-align: right;\">\n",
              "      <th></th>\n",
              "      <th>image</th>\n",
              "      <th>xmin</th>\n",
              "      <th>ymin</th>\n",
              "      <th>xmax</th>\n",
              "      <th>ymax</th>\n",
              "      <th>label</th>\n",
              "    </tr>\n",
              "  </thead>\n",
              "  <tbody>\n",
              "    <tr>\n",
              "      <th>0</th>\n",
              "      <td>TS_헬스_요가/1477113_605.jpg</td>\n",
              "      <td>1682.000000</td>\n",
              "      <td>1182.000000</td>\n",
              "      <td>1815.000000</td>\n",
              "      <td>1228.000000</td>\n",
              "      <td>291</td>\n",
              "    </tr>\n",
              "    <tr>\n",
              "      <th>1</th>\n",
              "      <td>TS_헬스_요가/2072307_605.jpg</td>\n",
              "      <td>358.000000</td>\n",
              "      <td>166.000000</td>\n",
              "      <td>434.000000</td>\n",
              "      <td>265.000000</td>\n",
              "      <td>298</td>\n",
              "    </tr>\n",
              "    <tr>\n",
              "      <th>2</th>\n",
              "      <td>TS_헬스_요가/1852047_605.jpg</td>\n",
              "      <td>1485.000000</td>\n",
              "      <td>1201.000000</td>\n",
              "      <td>1655.000000</td>\n",
              "      <td>1352.000000</td>\n",
              "      <td>285</td>\n",
              "    </tr>\n",
              "    <tr>\n",
              "      <th>3</th>\n",
              "      <td>TS_헬스_요가/1681012_605.jpg</td>\n",
              "      <td>1331.000000</td>\n",
              "      <td>985.000000</td>\n",
              "      <td>1448.000000</td>\n",
              "      <td>1120.000000</td>\n",
              "      <td>292</td>\n",
              "    </tr>\n",
              "    <tr>\n",
              "      <th>4</th>\n",
              "      <td>TS_헬스_요가/1420024_605.jpg</td>\n",
              "      <td>640.000000</td>\n",
              "      <td>1397.000000</td>\n",
              "      <td>780.000000</td>\n",
              "      <td>1457.000000</td>\n",
              "      <td>291</td>\n",
              "    </tr>\n",
              "    <tr>\n",
              "      <th>...</th>\n",
              "      <td>...</td>\n",
              "      <td>...</td>\n",
              "      <td>...</td>\n",
              "      <td>...</td>\n",
              "      <td>...</td>\n",
              "      <td>...</td>\n",
              "    </tr>\n",
              "    <tr>\n",
              "      <th>81680</th>\n",
              "      <td>TS_캠핑용품/2123399_616_transformed.jpg</td>\n",
              "      <td>1011.349693</td>\n",
              "      <td>257.560026</td>\n",
              "      <td>1234.662577</td>\n",
              "      <td>1419.987021</td>\n",
              "      <td>474</td>\n",
              "    </tr>\n",
              "    <tr>\n",
              "      <th>81681</th>\n",
              "      <td>TS_캠핑용품/2125714_616_transformed.jpg</td>\n",
              "      <td>183.398184</td>\n",
              "      <td>493.238434</td>\n",
              "      <td>384.954604</td>\n",
              "      <td>1396.014235</td>\n",
              "      <td>474</td>\n",
              "    </tr>\n",
              "    <tr>\n",
              "      <th>81682</th>\n",
              "      <td>TS_캠핑용품/2123510_616_transformed.jpg</td>\n",
              "      <td>2507.692308</td>\n",
              "      <td>1189.852008</td>\n",
              "      <td>2764.835165</td>\n",
              "      <td>1614.587738</td>\n",
              "      <td>474</td>\n",
              "    </tr>\n",
              "    <tr>\n",
              "      <th>81683</th>\n",
              "      <td>TS_캠핑용품/2125535_616_transformed.jpg</td>\n",
              "      <td>1442.424242</td>\n",
              "      <td>212.837838</td>\n",
              "      <td>2369.230769</td>\n",
              "      <td>867.567568</td>\n",
              "      <td>474</td>\n",
              "    </tr>\n",
              "    <tr>\n",
              "      <th>81684</th>\n",
              "      <td>TS_캠핑용품/2125748_616_transformed.jpg</td>\n",
              "      <td>1856.842105</td>\n",
              "      <td>866.993464</td>\n",
              "      <td>2544.561404</td>\n",
              "      <td>1093.464052</td>\n",
              "      <td>474</td>\n",
              "    </tr>\n",
              "  </tbody>\n",
              "</table>\n",
              "<p>81685 rows × 6 columns</p>\n",
              "</div>\n",
              "      <button class=\"colab-df-convert\" onclick=\"convertToInteractive('df-4bbbff89-8ef2-4a4a-a826-d580de26a671')\"\n",
              "              title=\"Convert this dataframe to an interactive table.\"\n",
              "              style=\"display:none;\">\n",
              "        \n",
              "  <svg xmlns=\"http://www.w3.org/2000/svg\" height=\"24px\"viewBox=\"0 0 24 24\"\n",
              "       width=\"24px\">\n",
              "    <path d=\"M0 0h24v24H0V0z\" fill=\"none\"/>\n",
              "    <path d=\"M18.56 5.44l.94 2.06.94-2.06 2.06-.94-2.06-.94-.94-2.06-.94 2.06-2.06.94zm-11 1L8.5 8.5l.94-2.06 2.06-.94-2.06-.94L8.5 2.5l-.94 2.06-2.06.94zm10 10l.94 2.06.94-2.06 2.06-.94-2.06-.94-.94-2.06-.94 2.06-2.06.94z\"/><path d=\"M17.41 7.96l-1.37-1.37c-.4-.4-.92-.59-1.43-.59-.52 0-1.04.2-1.43.59L10.3 9.45l-7.72 7.72c-.78.78-.78 2.05 0 2.83L4 21.41c.39.39.9.59 1.41.59.51 0 1.02-.2 1.41-.59l7.78-7.78 2.81-2.81c.8-.78.8-2.07 0-2.86zM5.41 20L4 18.59l7.72-7.72 1.47 1.35L5.41 20z\"/>\n",
              "  </svg>\n",
              "      </button>\n",
              "      \n",
              "  <style>\n",
              "    .colab-df-container {\n",
              "      display:flex;\n",
              "      flex-wrap:wrap;\n",
              "      gap: 12px;\n",
              "    }\n",
              "\n",
              "    .colab-df-convert {\n",
              "      background-color: #E8F0FE;\n",
              "      border: none;\n",
              "      border-radius: 50%;\n",
              "      cursor: pointer;\n",
              "      display: none;\n",
              "      fill: #1967D2;\n",
              "      height: 32px;\n",
              "      padding: 0 0 0 0;\n",
              "      width: 32px;\n",
              "    }\n",
              "\n",
              "    .colab-df-convert:hover {\n",
              "      background-color: #E2EBFA;\n",
              "      box-shadow: 0px 1px 2px rgba(60, 64, 67, 0.3), 0px 1px 3px 1px rgba(60, 64, 67, 0.15);\n",
              "      fill: #174EA6;\n",
              "    }\n",
              "\n",
              "    [theme=dark] .colab-df-convert {\n",
              "      background-color: #3B4455;\n",
              "      fill: #D2E3FC;\n",
              "    }\n",
              "\n",
              "    [theme=dark] .colab-df-convert:hover {\n",
              "      background-color: #434B5C;\n",
              "      box-shadow: 0px 1px 3px 1px rgba(0, 0, 0, 0.15);\n",
              "      filter: drop-shadow(0px 1px 2px rgba(0, 0, 0, 0.3));\n",
              "      fill: #FFFFFF;\n",
              "    }\n",
              "  </style>\n",
              "\n",
              "      <script>\n",
              "        const buttonEl =\n",
              "          document.querySelector('#df-4bbbff89-8ef2-4a4a-a826-d580de26a671 button.colab-df-convert');\n",
              "        buttonEl.style.display =\n",
              "          google.colab.kernel.accessAllowed ? 'block' : 'none';\n",
              "\n",
              "        async function convertToInteractive(key) {\n",
              "          const element = document.querySelector('#df-4bbbff89-8ef2-4a4a-a826-d580de26a671');\n",
              "          const dataTable =\n",
              "            await google.colab.kernel.invokeFunction('convertToInteractive',\n",
              "                                                     [key], {});\n",
              "          if (!dataTable) return;\n",
              "\n",
              "          const docLinkHtml = 'Like what you see? Visit the ' +\n",
              "            '<a target=\"_blank\" href=https://colab.research.google.com/notebooks/data_table.ipynb>data table notebook</a>'\n",
              "            + ' to learn more about interactive tables.';\n",
              "          element.innerHTML = '';\n",
              "          dataTable['output_type'] = 'display_data';\n",
              "          await google.colab.output.renderOutput(dataTable, element);\n",
              "          const docLink = document.createElement('div');\n",
              "          docLink.innerHTML = docLinkHtml;\n",
              "          element.appendChild(docLink);\n",
              "        }\n",
              "      </script>\n",
              "    </div>\n",
              "  </div>\n",
              "  "
            ]
          },
          "metadata": {},
          "execution_count": 11
        }
      ]
    },
    {
      "cell_type": "code",
      "source": [
        "# 제거할 카테고리 제거하기\n",
        "dropnum = [296,375,396,378,379,565,566,488,493,494,495,633,644,635,660,651,656,662,229,240,236,244,528,519]\n",
        "for i in dropnum:\n",
        "  idx = result_5[result_5['label']==i].index\n",
        "  result_5 = result_5.drop(idx)"
      ],
      "metadata": {
        "id": "RBPx4sEafU5d"
      },
      "execution_count": null,
      "outputs": []
    },
    {
      "cell_type": "code",
      "source": [
        "#합칠 데잉터 합치기\n",
        "result_5.loc[(result_5['label'] == 556), 'label'] = 551\n",
        "result_5.loc[(result_5['label'] == 375), 'label'] = 395\n",
        "result_5.loc[(result_5['label'] == 561), 'label'] = 560\n",
        "result_5.loc[(result_5['label'] == 485), 'label'] = 475\n",
        "con1 = [642, 623]\n",
        "for c in con1:\n",
        "  result_5.loc[(result_5['label'] == c), 'label'] = 632\n",
        "result_5.loc[(result_5['label'] == 643), 'label'] = 638\n",
        "result_5.loc[(result_5['label'] == 626), 'label'] = 640\n",
        "result_5.loc[(result_5['label'] == 645), 'label'] = 631\n",
        "con2 = [641, 647, 646]\n",
        "for c in con2:\n",
        "  result_5.loc[(result_5['label'] == c), 'label'] = 636\n",
        "con3 = [657, 648, 653]\n",
        "for c in con3:\n",
        "  result_5.loc[(result_5['label'] == c), 'label'] = 652\n",
        "result_5.loc[(result_5['label'] == 654), 'label'] = 649\n",
        "result_5.loc[(result_5['label'] == 538), 'label'] = 533"
      ],
      "metadata": {
        "id": "VmctJ5Qdg1uZ"
      },
      "execution_count": null,
      "outputs": []
    },
    {
      "cell_type": "code",
      "source": [
        "label_5['label'].value_counts(dropna = False)"
      ],
      "metadata": {
        "colab": {
          "base_uri": "https://localhost:8080/"
        },
        "id": "igUETXzOeLzM",
        "outputId": "20f18ff2-5b8a-495b-fa78-34c00c5fe73b"
      },
      "execution_count": null,
      "outputs": [
        {
          "output_type": "execute_result",
          "data": {
            "text/plain": [
              "560    3688\n",
              "517    3585\n",
              "511    3400\n",
              "527    3309\n",
              "521    2865\n",
              "512    2277\n",
              "516    2225\n",
              "526    2045\n",
              "475    2008\n",
              "525    1772\n",
              "490    1699\n",
              "518    1682\n",
              "476    1666\n",
              "562    1610\n",
              "288    1603\n",
              "484    1602\n",
              "530    1593\n",
              "294    1554\n",
              "522    1487\n",
              "482    1464\n",
              "520    1464\n",
              "492    1463\n",
              "524    1446\n",
              "295    1423\n",
              "483    1410\n",
              "489    1407\n",
              "487    1375\n",
              "291    1350\n",
              "477    1310\n",
              "285    1308\n",
              "523    1296\n",
              "297    1287\n",
              "491    1279\n",
              "287    1198\n",
              "293    1194\n",
              "514    1181\n",
              "292    1181\n",
              "563    1174\n",
              "290    1165\n",
              "529    1150\n",
              "481    1148\n",
              "298    1098\n",
              "564    1094\n",
              "286    1072\n",
              "289    1044\n",
              "478    1034\n",
              "474    1000\n",
              "480    1000\n",
              "513    1000\n",
              "515    1000\n",
              "479    1000\n",
              "486    1000\n",
              "Name: label, dtype: int64"
            ]
          },
          "metadata": {},
          "execution_count": 12
        }
      ]
    },
    {
      "cell_type": "code",
      "source": [
        "result_5['label'].value_counts(dropna = False, normalize = True)"
      ],
      "metadata": {
        "colab": {
          "base_uri": "https://localhost:8080/"
        },
        "id": "MBc5hzARfD4t",
        "outputId": "1583eaff-808b-4e60-b062-86f8ec95c402"
      },
      "execution_count": null,
      "outputs": [
        {
          "output_type": "execute_result",
          "data": {
            "text/plain": [
              "560    0.054085\n",
              "517    0.052574\n",
              "511    0.049861\n",
              "527    0.048527\n",
              "521    0.042016\n",
              "         ...   \n",
              "665    0.000103\n",
              "634    0.000103\n",
              "637    0.000059\n",
              "661    0.000059\n",
              "627    0.000044\n",
              "Name: label, Length: 78, dtype: float64"
            ]
          },
          "metadata": {},
          "execution_count": 21
        }
      ]
    },
    {
      "cell_type": "code",
      "source": [
        "#100개 미만 데이터 삭제하기\n",
        "con = result_5['label'].value_counts(dropna = False).loc[result_5['label'].value_counts(dropna = False)<100].index\n",
        "for c in con:\n",
        "  idx = result_5[result_5['label']==c].index\n",
        "  result_5 = result_5.drop(idx)"
      ],
      "metadata": {
        "id": "Tv8Dt-HuvOMo"
      },
      "execution_count": null,
      "outputs": []
    },
    {
      "cell_type": "code",
      "source": [
        "result_5['label'].value_counts()"
      ],
      "metadata": {
        "colab": {
          "base_uri": "https://localhost:8080/"
        },
        "id": "j4-LK6jwmWMG",
        "outputId": "6a966bcd-f363-47b8-8ac3-8c779d00d595"
      },
      "execution_count": null,
      "outputs": [
        {
          "output_type": "execute_result",
          "data": {
            "text/plain": [
              "560    3688\n",
              "517    3585\n",
              "511    3400\n",
              "527    3309\n",
              "521    2865\n",
              "512    2277\n",
              "516    2225\n",
              "526    2045\n",
              "475    2008\n",
              "525    1772\n",
              "518    1682\n",
              "562    1610\n",
              "484    1602\n",
              "522    1487\n",
              "483    1410\n",
              "487    1375\n",
              "291    1350\n",
              "523    1296\n",
              "287    1198\n",
              "293    1194\n",
              "514    1181\n",
              "290    1165\n",
              "529    1150\n",
              "481    1148\n",
              "298    1098\n",
              "564    1094\n",
              "474     992\n",
              "480     985\n",
              "513     982\n",
              "479     967\n",
              "515     929\n",
              "486     891\n",
              "490     883\n",
              "476     875\n",
              "492     865\n",
              "295     862\n",
              "288     839\n",
              "294     809\n",
              "482     806\n",
              "285     803\n",
              "530     799\n",
              "489     791\n",
              "477     786\n",
              "524     750\n",
              "491     680\n",
              "297     670\n",
              "292     641\n",
              "289     533\n",
              "520     490\n",
              "563     310\n",
              "478     290\n",
              "286     216\n",
              "Name: label, dtype: int64"
            ]
          },
          "metadata": {},
          "execution_count": 31
        }
      ]
    },
    {
      "cell_type": "code",
      "source": [
        "label_5.to_csv(\"training_labels_5_all.csv\")"
      ],
      "metadata": {
        "id": "9KpPYIwcv2Jk"
      },
      "execution_count": null,
      "outputs": []
    },
    {
      "cell_type": "code",
      "source": [],
      "metadata": {
        "id": "SHXELmEZwai_"
      },
      "execution_count": null,
      "outputs": []
    }
  ]
}