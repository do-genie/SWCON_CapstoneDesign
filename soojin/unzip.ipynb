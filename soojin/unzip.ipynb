{
  "nbformat": 4,
  "nbformat_minor": 0,
  "metadata": {
    "colab": {
      "provenance": []
    },
    "kernelspec": {
      "name": "python3",
      "display_name": "Python 3"
    },
    "language_info": {
      "name": "python"
    }
  },
  "cells": [
    {
      "cell_type": "code",
      "execution_count": 1,
      "metadata": {
        "colab": {
          "base_uri": "https://localhost:8080/"
        },
        "id": "ss0QcL3_mYFr",
        "outputId": "dc879809-03fe-4074-f182-40dfb47e3f0a"
      },
      "outputs": [
        {
          "output_type": "stream",
          "name": "stdout",
          "text": [
            "Mounted at /content/drive\n"
          ]
        }
      ],
      "source": [
        "from google.colab import drive\n",
        "drive.mount('/content/drive', force_remount = True)"
      ]
    },
    {
      "cell_type": "code",
      "source": [
        "import os"
      ],
      "metadata": {
        "id": "xkmlW7KDTw_B"
      },
      "execution_count": 2,
      "outputs": []
    },
    {
      "cell_type": "code",
      "source": [
        "%cd /content/drive/My Drive/Activity_Recognition/labeling"
      ],
      "metadata": {
        "colab": {
          "base_uri": "https://localhost:8080/"
        },
        "id": "GgJrhpHxTuP_",
        "outputId": "aae8790b-36dc-4ea8-e3a3-00c4dd6818a0"
      },
      "execution_count": 8,
      "outputs": [
        {
          "output_type": "stream",
          "name": "stdout",
          "text": [
            "/content/drive/.shortcut-targets-by-id/1_q4-B2x2rWe41LiRPeBuTQCjnGl3LXAe/Activity_Recognition/labeling\n"
          ]
        }
      ]
    },
    {
      "cell_type": "code",
      "source": [
        "!unzip -qq \"/content/drive/MyDrive/Activity_Recognition/labeling/TL_놀이터_공원.zip\""
      ],
      "metadata": {
        "id": "M4CQlA8Dmdkh"
      },
      "execution_count": 2,
      "outputs": []
    },
    {
      "cell_type": "code",
      "source": [
        "!unzip -qq \"/content/drive/MyDrive/Activity_Recognition/labeling/TL_미용도구.zip\""
      ],
      "metadata": {
        "id": "hFkCewY3m2y7"
      },
      "execution_count": 3,
      "outputs": []
    },
    {
      "cell_type": "code",
      "source": [
        "!unzip -qq \"/content/drive/MyDrive/Activity_Recognition/labeling/TL_의약품_의료용품.zip\""
      ],
      "metadata": {
        "id": "ZVizEPqem9uA"
      },
      "execution_count": 9,
      "outputs": []
    },
    {
      "cell_type": "code",
      "source": [
        "!unzip -qq \"/content/drive/MyDrive/Activity_Recognition/labeling/TL_운동기구(구기).zip\""
      ],
      "metadata": {
        "colab": {
          "base_uri": "https://localhost:8080/"
        },
        "id": "6qj2FUrEnAK_",
        "outputId": "a67a9003-20c6-43fa-fe84-406e1f145801"
      },
      "execution_count": 13,
      "outputs": [
        {
          "output_type": "stream",
          "name": "stdout",
          "text": [
            "replace mnt/nas2/Projects/TTA_2022_jgcha/jhbae/037.Small object detection을 위한 이미지 데이터/01.데이터/1.Training/2.라벨링데이터/TL_운동기구(구기)/sports_equip01/2015769_589.json? [y]es, [n]o, [A]ll, [N]one, [r]ename: "
          ]
        }
      ]
    },
    {
      "cell_type": "code",
      "source": [
        "!unzip -qq \"/content/drive/MyDrive/Activity_Recognition/labeling/TL_캠핑용품.zip\""
      ],
      "metadata": {
        "id": "NWXlMoWgnETb"
      },
      "execution_count": null,
      "outputs": []
    },
    {
      "cell_type": "code",
      "source": [
        "!unzip -qq \"/content/drive/MyDrive/Activity_Recognition/labeling/TL_미술용품.zip\""
      ],
      "metadata": {
        "id": "h6nNvt2RnGdj"
      },
      "execution_count": null,
      "outputs": []
    },
    {
      "cell_type": "code",
      "source": [
        "!unzip -qq \"/content/drive/MyDrive/Activity_Recognition/labeling/TL_육아용품.zip\""
      ],
      "metadata": {
        "id": "NsvLFkXmnIgL"
      },
      "execution_count": null,
      "outputs": []
    },
    {
      "cell_type": "code",
      "source": [
        "%cd /content/drive/My Drive/Activity_Recognition/image_zip"
      ],
      "metadata": {
        "colab": {
          "base_uri": "https://localhost:8080/"
        },
        "id": "nvLhxSq0qIOz",
        "outputId": "fa6db726-2c24-4118-8d71-936c6dcf768d"
      },
      "execution_count": 14,
      "outputs": [
        {
          "output_type": "stream",
          "name": "stdout",
          "text": [
            "/content/drive/.shortcut-targets-by-id/1_q4-B2x2rWe41LiRPeBuTQCjnGl3LXAe/Activity_Recognition/image_zip\n"
          ]
        }
      ]
    },
    {
      "cell_type": "code",
      "source": [],
      "metadata": {
        "id": "iLMgvMGhijN0"
      },
      "execution_count": null,
      "outputs": []
    },
    {
      "cell_type": "code",
      "source": [
        "if os.path.isfile('/content/drive/MyDrive/Activity_Recognition/labeling/mnt/nas2/Projects/TTA_2022_jgcha/jhbae/037.Small object detection을 위한 이미지 데이터/01.데이터/1.Training/2.라벨링데이터/TL_운동기구(구기)'):\n",
        "  print('yes')\n",
        "else:\n",
        "  print('no')"
      ],
      "metadata": {
        "colab": {
          "base_uri": "https://localhost:8080/"
        },
        "id": "qTifwA-aTzTm",
        "outputId": "2608e9ef-2a32-4a1b-bebf-f1d58f2cc190"
      },
      "execution_count": 12,
      "outputs": [
        {
          "output_type": "stream",
          "name": "stdout",
          "text": [
            "no\n"
          ]
        }
      ]
    },
    {
      "cell_type": "code",
      "source": [
        "!unzip -qq \"/content/drive/MyDrive/Activity_Recognition/image_zip/TS_의약품_의료용품.zip\""
      ],
      "metadata": {
        "colab": {
          "base_uri": "https://localhost:8080/"
        },
        "id": "Mw_wY7PuqDb8",
        "outputId": "35a83291-2f7f-4205-c2ac-3ce538a22d85"
      },
      "execution_count": null,
      "outputs": [
        {
          "output_type": "stream",
          "name": "stdout",
          "text": [
            "mnt/nas2/Projects/TTA_2022_jgcha/jhbae/037.Small object detection을 위한 이미지 데이터/01.데이터/1.Training/1.원천데이터/TS_의약품_의료용품medical_equip01/1590890_623.jpg:  write error (disk full?).  Continue? (y/n/^C) "
          ]
        }
      ]
    },
    {
      "cell_type": "code",
      "source": [
        "!unzip -qq \"/content/drive/MyDrive/Activity_Recognition/image_zip/TS_미용도구.zip\""
      ],
      "metadata": {
        "id": "motSEWDytEHj"
      },
      "execution_count": null,
      "outputs": []
    },
    {
      "cell_type": "code",
      "source": [],
      "metadata": {
        "id": "pxC58wqJtRJx"
      },
      "execution_count": null,
      "outputs": []
    }
  ]
}